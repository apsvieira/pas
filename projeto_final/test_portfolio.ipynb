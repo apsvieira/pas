{
 "cells": [
  {
   "cell_type": "code",
   "execution_count": 2,
   "metadata": {},
   "outputs": [],
   "source": [
    "import pandas as pd\n",
    "\n",
    "from simple_portfolio.portfolio import Portfolio"
   ]
  },
  {
   "cell_type": "code",
   "execution_count": 5,
   "metadata": {},
   "outputs": [],
   "source": [
    "ticks =  pd.DataFrame(columns=['datetime', 'asset', 'open', 'low', 'high', 'close', 'quantity'], data=[\n",
    "    ['2019-01-01', 'spy', 93.3, 92.1, 93.5, 93, 200],\n",
    "    ['2019-01-01', 'indfut', 100000, 98954, 101000, 100050, 200],\n",
    "    ['2019-01-02', 'spy', 93, 92.9, 93.4, 93, 200],\n",
    "    ['2019-01-02', 'indfut', 99253, 98234, 101234, 100000, 200]\n",
    "])\n",
    "\n",
    "ticks.index = pd.MultiIndex.from_frame(ticks[['datetime', 'asset']])\n",
    "ticks = ticks.drop(['datetime', 'asset'], axis=1)"
   ]
  },
  {
   "cell_type": "code",
   "execution_count": 6,
   "metadata": {},
   "outputs": [],
   "source": [
    "signals =  pd.DataFrame(columns=['datetime', 'asset', 'signal'], data=[\n",
    "    ['2019-01-01', 'spy', 0],\n",
    "    ['2019-01-01', 'indfut', 1],\n",
    "    ['2019-01-02', 'spy', -1],\n",
    "    ['2019-01-02', 'indfut', -1]\n",
    "])\n",
    "\n",
    "signals.index = pd.MultiIndex.from_frame(signals[['datetime', 'asset']])\n",
    "signals = signals.drop(['datetime', 'asset'], axis=1)"
   ]
  },
  {
   "cell_type": "code",
   "execution_count": 7,
   "metadata": {},
   "outputs": [],
   "source": [
    "portfolio = Portfolio(100000)"
   ]
  },
  {
   "cell_type": "code",
   "execution_count": 8,
   "metadata": {},
   "outputs": [
    {
     "data": {
      "text/plain": [
       "87500"
      ]
     },
     "execution_count": 8,
     "metadata": {},
     "output_type": "execute_result"
    }
   ],
   "source": [
    "portfolio.backtest(ticks, signals)"
   ]
  },
  {
   "cell_type": "code",
   "execution_count": 9,
   "metadata": {},
   "outputs": [
    {
     "data": {
      "text/plain": [
       "{'SHORT': [], 'LONG': [{'entry_price': 101000.0, 'quantity': 100}]}"
      ]
     },
     "execution_count": 9,
     "metadata": {},
     "output_type": "execute_result"
    }
   ],
   "source": [
    "portfolio.positions['indfut'].entries"
   ]
  },
  {
   "cell_type": "code",
   "execution_count": 10,
   "metadata": {},
   "outputs": [
    {
     "data": {
      "text/plain": [
       "{'7269b9b80a044103a9b895237a0c55f7': <simple_portfolio.order.Order at 0x14cff826c50>,\n",
       " '0dfcbbedb9e3427298ed732fd6d58441': <simple_portfolio.order.Order at 0x14cff8039b0>,\n",
       " '8f11cdcdb908462cae50e2efd28e6745': <simple_portfolio.order.Order at 0x14cff8267b8>}"
      ]
     },
     "execution_count": 10,
     "metadata": {},
     "output_type": "execute_result"
    }
   ],
   "source": [
    "portfolio.orders"
   ]
  },
  {
   "cell_type": "code",
   "execution_count": null,
   "metadata": {},
   "outputs": [],
   "source": []
  }
 ],
 "metadata": {
  "kernelspec": {
   "display_name": "Python 3",
   "language": "python",
   "name": "python3"
  },
  "language_info": {
   "codemirror_mode": {
    "name": "ipython",
    "version": 3
   },
   "file_extension": ".py",
   "mimetype": "text/x-python",
   "name": "python",
   "nbconvert_exporter": "python",
   "pygments_lexer": "ipython3",
   "version": "3.6.7"
  }
 },
 "nbformat": 4,
 "nbformat_minor": 2
}
