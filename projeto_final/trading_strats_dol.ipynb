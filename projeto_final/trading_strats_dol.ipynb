{
 "cells": [
  {
   "cell_type": "code",
   "execution_count": 1,
   "metadata": {},
   "outputs": [],
   "source": [
    "import os\n",
    "from itertools import product\n",
    "from typing import Dict\n",
    "\n",
    "import numpy as np\n",
    "import pandas as pd\n",
    "import plotly.offline as py\n",
    "from matplotlib import pyplot as plt\n",
    "from tqdm import tqdm\n",
    "\n",
    "from simple_portfolio import adaptive_filters\n",
    "from simple_portfolio import macd\n",
    "from simple_portfolio.utils import process_profitchart_data\n",
    "from simple_portfolio.bollinger import BollingerBands, LMSBands, ESBands, RLSBands, IdealBands\n",
    "from simple_portfolio.portfolio import Portfolio"
   ]
  },
  {
   "cell_type": "code",
   "execution_count": 2,
   "metadata": {},
   "outputs": [
    {
     "data": {
      "text/html": [
       "        <script type=\"text/javascript\">\n",
       "        window.PlotlyConfig = {MathJaxConfig: 'local'};\n",
       "        if (window.MathJax) {MathJax.Hub.Config({SVG: {font: \"STIX-Web\"}});}\n",
       "        if (typeof require !== 'undefined') {\n",
       "        require.undef(\"plotly\");\n",
       "        requirejs.config({\n",
       "            paths: {\n",
       "                'plotly': ['https://cdn.plot.ly/plotly-latest.min']\n",
       "            }\n",
       "        });\n",
       "        require(['plotly'], function(Plotly) {\n",
       "            window._Plotly = Plotly;\n",
       "        });\n",
       "        }\n",
       "        </script>\n",
       "        "
      ]
     },
     "metadata": {},
     "output_type": "display_data"
    }
   ],
   "source": [
    "py.init_notebook_mode(connected=True)"
   ]
  },
  {
   "cell_type": "code",
   "execution_count": 3,
   "metadata": {},
   "outputs": [],
   "source": [
    "%matplotlib inline\n",
    "plt.rcParams['figure.figsize'] = [12, 9]"
   ]
  },
  {
   "cell_type": "code",
   "execution_count": 4,
   "metadata": {},
   "outputs": [],
   "source": [
    "dolfut_1 = pd.read_csv('data/dados_dolfut/DOLFUT_1min.csv', sep=';', encoding='utf-8', dtype=str)\n",
    "indfut_1 = pd.read_csv('data/dados_indfut/INDFUT_1min.csv', sep=';', encoding='utf-8', dtype=str)\n",
    "\n",
    "dolfut_1 = process_profitchart_data(dolfut_1)\n",
    "indfut_1 = process_profitchart_data(indfut_1)"
   ]
  },
  {
   "cell_type": "code",
   "execution_count": 5,
   "metadata": {},
   "outputs": [
    {
     "data": {
      "text/html": [
       "<div>\n",
       "<style scoped>\n",
       "    .dataframe tbody tr th:only-of-type {\n",
       "        vertical-align: middle;\n",
       "    }\n",
       "\n",
       "    .dataframe tbody tr th {\n",
       "        vertical-align: top;\n",
       "    }\n",
       "\n",
       "    .dataframe thead th {\n",
       "        text-align: right;\n",
       "    }\n",
       "</style>\n",
       "<table border=\"1\" class=\"dataframe\">\n",
       "  <thead>\n",
       "    <tr style=\"text-align: right;\">\n",
       "      <th></th>\n",
       "      <th></th>\n",
       "      <th>open</th>\n",
       "      <th>high</th>\n",
       "      <th>low</th>\n",
       "      <th>close</th>\n",
       "      <th>volume</th>\n",
       "      <th>quantity</th>\n",
       "    </tr>\n",
       "    <tr>\n",
       "      <th>datetime</th>\n",
       "      <th>asset</th>\n",
       "      <th></th>\n",
       "      <th></th>\n",
       "      <th></th>\n",
       "      <th></th>\n",
       "      <th></th>\n",
       "      <th></th>\n",
       "    </tr>\n",
       "  </thead>\n",
       "  <tbody>\n",
       "    <tr>\n",
       "      <th>2018-10-11 17:59:00</th>\n",
       "      <th>DOLFUT</th>\n",
       "      <td>3858.832</td>\n",
       "      <td>3858.832</td>\n",
       "      <td>3858.832</td>\n",
       "      <td>3858.832</td>\n",
       "      <td>947375.0</td>\n",
       "      <td>5</td>\n",
       "    </tr>\n",
       "    <tr>\n",
       "      <th>2018-10-15 09:00:00</th>\n",
       "      <th>DOLFUT</th>\n",
       "      <td>3831.338</td>\n",
       "      <td>3832.865</td>\n",
       "      <td>3829.811</td>\n",
       "      <td>3831.338</td>\n",
       "      <td>189994625.0</td>\n",
       "      <td>1010</td>\n",
       "    </tr>\n",
       "    <tr>\n",
       "      <th>2018-10-15 09:01:00</th>\n",
       "      <th>DOLFUT</th>\n",
       "      <td>3831.338</td>\n",
       "      <td>3838.975</td>\n",
       "      <td>3830.320</td>\n",
       "      <td>3836.939</td>\n",
       "      <td>417024250.0</td>\n",
       "      <td>2215</td>\n",
       "    </tr>\n",
       "    <tr>\n",
       "      <th>2018-10-15 09:02:00</th>\n",
       "      <th>DOLFUT</th>\n",
       "      <td>3836.430</td>\n",
       "      <td>3838.975</td>\n",
       "      <td>3833.375</td>\n",
       "      <td>3836.430</td>\n",
       "      <td>137518000.0</td>\n",
       "      <td>730</td>\n",
       "    </tr>\n",
       "    <tr>\n",
       "      <th>2018-10-15 09:03:00</th>\n",
       "      <th>DOLFUT</th>\n",
       "      <td>3836.939</td>\n",
       "      <td>3838.975</td>\n",
       "      <td>3835.920</td>\n",
       "      <td>3835.920</td>\n",
       "      <td>120586250.0</td>\n",
       "      <td>640</td>\n",
       "    </tr>\n",
       "  </tbody>\n",
       "</table>\n",
       "</div>"
      ],
      "text/plain": [
       "                                open      high       low     close  \\\n",
       "datetime            asset                                            \n",
       "2018-10-11 17:59:00 DOLFUT  3858.832  3858.832  3858.832  3858.832   \n",
       "2018-10-15 09:00:00 DOLFUT  3831.338  3832.865  3829.811  3831.338   \n",
       "2018-10-15 09:01:00 DOLFUT  3831.338  3838.975  3830.320  3836.939   \n",
       "2018-10-15 09:02:00 DOLFUT  3836.430  3838.975  3833.375  3836.430   \n",
       "2018-10-15 09:03:00 DOLFUT  3836.939  3838.975  3835.920  3835.920   \n",
       "\n",
       "                                 volume  quantity  \n",
       "datetime            asset                          \n",
       "2018-10-11 17:59:00 DOLFUT     947375.0         5  \n",
       "2018-10-15 09:00:00 DOLFUT  189994625.0      1010  \n",
       "2018-10-15 09:01:00 DOLFUT  417024250.0      2215  \n",
       "2018-10-15 09:02:00 DOLFUT  137518000.0       730  \n",
       "2018-10-15 09:03:00 DOLFUT  120586250.0       640  "
      ]
     },
     "execution_count": 5,
     "metadata": {},
     "output_type": "execute_result"
    }
   ],
   "source": [
    "dolfut_1.head()"
   ]
  },
  {
   "cell_type": "code",
   "execution_count": 9,
   "metadata": {},
   "outputs": [
    {
     "data": {
      "text/plain": [
       "11773000.0"
      ]
     },
     "execution_count": 9,
     "metadata": {},
     "output_type": "execute_result"
    }
   ],
   "source": [
    "bands_dol_ideal = IdealBands(indfut_1, 11, 2, 27)\n",
    "portfolio = Portfolio(1e7, max_single_exposition=600)\n",
    "portfolio.backtest(bands_dol_ideal.quotes.iloc[20000:], \n",
    "                   bands_dol_ideal.signals.iloc[20000:])"
   ]
  },
  {
   "cell_type": "code",
   "execution_count": 10,
   "metadata": {},
   "outputs": [
    {
     "data": {
      "text/plain": [
       "\n",
       "        Portfolio:\n",
       "            ----\n",
       "        Available Capital: 11773000.0\n",
       "        Allocated Capital: 19375\n",
       "\n",
       "        Current Positions: \n",
       "        PositionStore containing the following positions:\n",
       "\n",
       "        Asset INDFUT: 155 outstanding LONG contracts.\n",
       "\n",
       "        "
      ]
     },
     "execution_count": 10,
     "metadata": {},
     "output_type": "execute_result"
    }
   ],
   "source": [
    "portfolio"
   ]
  },
  {
   "cell_type": "markdown",
   "metadata": {},
   "source": [
    "## Bollinger Bands\n",
    "The formula for constructing the bands is, typically:\n",
    "\n",
    "$$TP = \\frac{(High + Low + Close)}{3}$$\n",
    "$$BB_{center} = MA(TP, n)$$\n",
    "$$BB_{upper} = MA(TP, n) + m * \\sigma(TP, n)$$\n",
    "$$BB_{lower} = MA(TP, n) - m * \\sigma(TP, n)$$\n",
    "\n",
    "where\n",
    "\n",
    "$BB =$ Bollinger Band\n",
    "\n",
    "$MA(X, k) =$ Moving Average of signal X over last k periods\n",
    "\n",
    "$\\sigma(X, k) =$ Standard Deviation of signal X over last k periods\n",
    "\n",
    "$n =$ number of periods to consider\n",
    "\n",
    "$m =$ number of standard deviations to offset the bands by"
   ]
  },
  {
   "cell_type": "markdown",
   "metadata": {},
   "source": [
    "## Os conjuntos de dados"
   ]
  },
  {
   "cell_type": "code",
   "execution_count": 6,
   "metadata": {},
   "outputs": [],
   "source": [
    "fim_otimizacao_tradicional = 20000\n",
    "fim_otimizacao_modificado = 40000"
   ]
  },
  {
   "cell_type": "code",
   "execution_count": 7,
   "metadata": {},
   "outputs": [],
   "source": [
    "lms_start_sample = 200\n",
    "es_start_sample = 2100\n",
    "rls_start_sample = 100"
   ]
  },
  {
   "cell_type": "markdown",
   "metadata": {},
   "source": [
    "## Start evaluating trading with a strategy"
   ]
  },
  {
   "cell_type": "markdown",
   "metadata": {},
   "source": [
    "### Encontrando uma boa parametrização da técnica clássica"
   ]
  },
  {
   "cell_type": "code",
   "execution_count": 25,
   "metadata": {},
   "outputs": [
    {
     "name": "stdout",
     "output_type": "stream",
     "text": [
      "Iteration 0: 13, 2, 26, 10062514.350000022, 37500\n",
      "Iteration 1: 13, 2, 32, 9990194.275000015, 37500\n",
      "Iteration 2: 13, 2, 39, 10040790.504999997, 10000\n",
      "Iteration 3: 13, 2.5, 26, 10052526.834999999, 43125\n",
      "Iteration 4: 13, 2.5, 32, 10052850.494999997, 16250\n",
      "Iteration 5: 13, 2.5, 39, 10088693.184999995, 3750\n",
      "Iteration 6: 17, 2, 34, 10021817.11000002, 62500\n",
      "Iteration 7: 17, 2, 42, 10012345.200000009, 62500\n",
      "Iteration 8: 17, 2, 51, 10030448.140000021, 75000\n",
      "Iteration 9: 17, 2.5, 34, 10046982.705000004, 0\n",
      "Iteration 10: 17, 2.5, 42, 10103063.240000002, 12500\n",
      "Iteration 11: 17, 2.5, 51, 10104867.46, 25000\n",
      "Iteration 12: 21, 2, 42, 10054411.15000002, 50000\n",
      "Iteration 13: 21, 2, 52, 10076052.920000007, 62500\n",
      "Iteration 14: 21, 2, 63, 10088565.39999999, 62500\n",
      "Iteration 15: 21, 2.5, 42, 10069348.045, 12500\n",
      "Iteration 16: 21, 2.5, 52, 10083880.675000003, 0\n",
      "Iteration 17: 21, 2.5, 63, 10080807.55999999, 0\n"
     ]
    }
   ],
   "source": [
    "# Objetivo\n",
    "max_capital = 0\n",
    "params_max_capital = None\n",
    "\n",
    "# Universo de Parâmetros\n",
    "all_num_periods = [13, 17, 21]\n",
    "all_stddev = [2, 2.5]\n",
    "all_long_term_std_mult = [2, 2.5, 3]\n",
    "\n",
    "for i, (num_periods, stddev, long_term_std_mul) in enumerate(\n",
    "    product(all_num_periods, all_stddev, all_long_term_std_mult)\n",
    "):\n",
    "    bands_dol = BollingerBands(dolfut_1, num_periods, stddev, int(long_term_std_mul*num_periods))\n",
    "    portfolio = Portfolio(1e7, max_single_exposition=600)\n",
    "    available_capital = portfolio.backtest(bands_dol.quotes.iloc[:fim_otimizacao_tradicional],\n",
    "                                           bands_dol.signals.iloc[:fim_otimizacao_tradicional])\n",
    "    allocated_capital = portfolio.allocated_capital\n",
    "    total_capital = allocated_capital + available_capital\n",
    "    print(f\"Iteration {i}: {num_periods}, {stddev}, {int(long_term_std_mul*num_periods)}, {available_capital}, {allocated_capital}\")\n",
    "\n",
    "    if total_capital > max_capital:\n",
    "        max_capital = total_capital\n",
    "        params_max_capital = (num_periods, stddev, long_term_std_mul)"
   ]
  },
  {
   "cell_type": "code",
   "execution_count": 26,
   "metadata": {},
   "outputs": [
    {
     "data": {
      "text/plain": [
       "7110269.17499998"
      ]
     },
     "execution_count": 26,
     "metadata": {},
     "output_type": "execute_result"
    }
   ],
   "source": [
    "periods, stddev, mult = params_max_capital\n",
    "bands_dol = BollingerBands(dolfut_1, periods, stddev, int(mult * periods))\n",
    "portfolio = Portfolio(1e7, max_single_exposition=600)\n",
    "portfolio.backtest(bands_dol.quotes.iloc[fim_otimizacao_modificado:], \n",
    "                   bands_dol.signals.iloc[fim_otimizacao_modificado:])"
   ]
  },
  {
   "cell_type": "code",
   "execution_count": 27,
   "metadata": {},
   "outputs": [
    {
     "data": {
      "text/plain": [
       "\n",
       "        Portfolio:\n",
       "            ----\n",
       "        Available Capital: 7110269.17499998\n",
       "        Allocated Capital: 3000000\n",
       "\n",
       "        Current Positions: \n",
       "        PositionStore containing the following positions:\n",
       "\n",
       "        Asset DOLFUT: 200 outstanding SHORT contracts.\n",
       "\n",
       "        "
      ]
     },
     "execution_count": 27,
     "metadata": {},
     "output_type": "execute_result"
    }
   ],
   "source": [
    "portfolio"
   ]
  },
  {
   "cell_type": "code",
   "execution_count": 62,
   "metadata": {},
   "outputs": [
    {
     "data": {
      "text/plain": [
       "(21, 2, 3)"
      ]
     },
     "execution_count": 62,
     "metadata": {},
     "output_type": "execute_result"
    }
   ],
   "source": [
    "periods, stddev, mult"
   ]
  },
  {
   "cell_type": "markdown",
   "metadata": {},
   "source": [
    "#### Otimizando um LMS sobre os parâmetros ótimos"
   ]
  },
  {
   "cell_type": "code",
   "execution_count": 46,
   "metadata": {},
   "outputs": [
    {
     "name": "stdout",
     "output_type": "stream",
     "text": [
      "Iteration 0: 21, 2, 6, 5e-10, 10073498.540000001, 28750\n",
      "Iteration 1: 21, 2, 6, 1e-10, 10085962.76500002, 6875\n",
      "Iteration 2: 21, 2, 6, 5e-11, 10017343.795000004, 75000\n"
     ]
    },
    {
     "data": {
      "text/plain": [
       "(10102248.540000001, 5e-10)"
      ]
     },
     "execution_count": 46,
     "metadata": {},
     "output_type": "execute_result"
    }
   ],
   "source": [
    "paces = [5e-10, 1e-10, 5e-11]\n",
    "max_capital = 0\n",
    "max_capital_pace = None\n",
    "periods, stddev, mult = params_max_capital\n",
    "\n",
    "for i, pace in enumerate(paces):\n",
    "    bands_dol_lms = LMSBands(dolfut_1, 21, 2, 63, pace)\n",
    "    portfolio = Portfolio(1e7, max_single_exposition=600)\n",
    "    available_capital = portfolio.backtest(bands_dol_lms.quotes.iloc[fim_otimizacao_tradicional:fim_otimizacao_modificado], \n",
    "                                           bands_dol_lms.signals.iloc[fim_otimizacao_tradicional:fim_otimizacao_modificado])\n",
    "    allocated_capital = portfolio.allocated_capital\n",
    "    total_capital = allocated_capital + available_capital\n",
    "    print(f\"Iteration {i}: {num_periods}, {stddev}, {int(long_term_std_mul*stddev)}, {pace}, {available_capital}, {allocated_capital}\")\n",
    "    \n",
    "    if total_capital > max_capital:\n",
    "        max_capital = total_capital\n",
    "        max_capital_pace = pace\n",
    "\n",
    "max_capital, max_capital_pace"
   ]
  },
  {
   "cell_type": "code",
   "execution_count": 30,
   "metadata": {},
   "outputs": [],
   "source": [
    "bands_ind_lms = LMSBands(indfut_1, 11, 2, 27, 5e-13)"
   ]
  },
  {
   "cell_type": "code",
   "execution_count": 35,
   "metadata": {},
   "outputs": [
    {
     "data": {
      "image/png": "[encoded data removed]",
      "text/plain": [
       "<Figure size 864x648 with 1 Axes>"
      ]
     },
     "metadata": {
      "needs_background": "light"
     },
     "output_type": "display_data"
    }
   ],
   "source": [
    "np.power(bands_ind_lms.quotes.eval('TP - band_center'), 2)[20000:].plot()\n",
    "plt.savefig('ind_lms_dps')"
   ]
  },
  {
   "cell_type": "code",
   "execution_count": 53,
   "metadata": {},
   "outputs": [
    {
     "data": {
      "text/plain": [
       "4143941.929999994"
      ]
     },
     "execution_count": 53,
     "metadata": {},
     "output_type": "execute_result"
    }
   ],
   "source": [
    "bands_dol_lms = LMSBands(dolfut_1, periods, stddev, int(mult * periods), 5e-10)\n",
    "portfolio = Portfolio(1e7, max_single_exposition=600)\n",
    "portfolio.backtest(bands_dol_lms.quotes.iloc[fim_otimizacao_modificado:], \n",
    "                   bands_dol_lms.signals.iloc[fim_otimizacao_modificado:])"
   ]
  },
  {
   "cell_type": "code",
   "execution_count": 54,
   "metadata": {},
   "outputs": [
    {
     "data": {
      "text/plain": [
       "\n",
       "        Portfolio:\n",
       "            ----\n",
       "        Available Capital: 4143941.929999994\n",
       "        Allocated Capital: 6000000\n",
       "\n",
       "        Current Positions: \n",
       "        PositionStore containing the following positions:\n",
       "\n",
       "        Asset DOLFUT: 400 outstanding LONG contracts.\n",
       "\n",
       "        "
      ]
     },
     "execution_count": 54,
     "metadata": {},
     "output_type": "execute_result"
    }
   ],
   "source": [
    "portfolio"
   ]
  },
  {
   "cell_type": "code",
   "execution_count": 48,
   "metadata": {},
   "outputs": [
    {
     "name": "stdout",
     "output_type": "stream",
     "text": [
      "Iteration 0: 21, 2, 63, 1e-09, 10037277.395000018, 37500\n",
      "Iteration 1: 21, 2, 63, 5e-10, 9959590.405000014, 37500\n",
      "Iteration 2: 21, 2, 63, 1e-10, 9925000.0, 75000\n"
     ]
    },
    {
     "data": {
      "text/plain": [
       "(10074777.395000018, 1e-09)"
      ]
     },
     "execution_count": 48,
     "metadata": {},
     "output_type": "execute_result"
    }
   ],
   "source": [
    "paces = [1e-9, 5e-10, 1e-10]\n",
    "max_capital = 0\n",
    "max_capital_pace = None\n",
    "periods, stddev, mult = params_max_capital\n",
    "\n",
    "for i, pace in enumerate(paces):\n",
    "    bands_dol_es = ESBands(dolfut_1, 21, 2, 63, pace)\n",
    "    portfolio = Portfolio(1e7, max_single_exposition=600)\n",
    "    available_capital = portfolio.backtest(bands_dol_es.quotes.iloc[fim_otimizacao_tradicional:fim_otimizacao_modificado], \n",
    "                                           bands_dol_es.signals.iloc[fim_otimizacao_tradicional:fim_otimizacao_modificado])\n",
    "    allocated_capital = portfolio.allocated_capital\n",
    "    total_capital = allocated_capital + available_capital\n",
    "    print(f\"Iteration {i}: {periods}, {stddev}, {int(mult*periods)}, {pace}, {available_capital}, {allocated_capital}\")\n",
    "\n",
    "    if total_capital > max_capital:\n",
    "        max_capital = total_capital\n",
    "        max_capital_pace = pace\n",
    "\n",
    "max_capital, max_capital_pace"
   ]
  },
  {
   "cell_type": "code",
   "execution_count": 50,
   "metadata": {},
   "outputs": [
    {
     "data": {
      "text/plain": [
       "994522.4349999912"
      ]
     },
     "execution_count": 50,
     "metadata": {},
     "output_type": "execute_result"
    }
   ],
   "source": [
    "bands_dol_es = ESBands(dolfut_1, periods, stddev, int(mult * periods), max_capital_pace)\n",
    "portfolio = Portfolio(1e7, max_single_exposition=600)\n",
    "portfolio.backtest(bands_dol_es.quotes.iloc[fim_otimizacao_modificado:], \n",
    "                   bands_dol_es.signals.iloc[fim_otimizacao_modificado:])"
   ]
  },
  {
   "cell_type": "code",
   "execution_count": 51,
   "metadata": {},
   "outputs": [
    {
     "data": {
      "text/plain": [
       "\n",
       "        Portfolio:\n",
       "            ----\n",
       "        Available Capital: 994522.4349999912\n",
       "        Allocated Capital: 9000000\n",
       "\n",
       "        Current Positions: \n",
       "        PositionStore containing the following positions:\n",
       "\n",
       "        Asset DOLFUT: 600 outstanding SHORT contracts.\n",
       "\n",
       "        "
      ]
     },
     "execution_count": 51,
     "metadata": {},
     "output_type": "execute_result"
    }
   ],
   "source": [
    "portfolio"
   ]
  },
  {
   "cell_type": "code",
   "execution_count": 55,
   "metadata": {},
   "outputs": [
    {
     "name": "stdout",
     "output_type": "stream",
     "text": [
      "Iteration 0: 21, 2, 6, 0.9, 10, 9882304.054999998, 75000\n",
      "Iteration 1: 21, 2, 6, 0.9, 50, 9921968.635000005, 75000\n",
      "Iteration 2: 21, 2, 6, 0.99, 10, 9840656.489999996, 75000\n",
      "Iteration 3: 21, 2, 6, 0.99, 50, 9851284.365000006, 75000\n"
     ]
    },
    {
     "data": {
      "text/plain": [
       "(9996968.635000005, (0.9, 50))"
      ]
     },
     "execution_count": 55,
     "metadata": {},
     "output_type": "execute_result"
    }
   ],
   "source": [
    "lambs = [.9, .99]\n",
    "sigs = [10, 50]\n",
    "max_capital = 0\n",
    "max_capital_params_rls = None\n",
    "periods, stddev, mult = 21, 2, 3\n",
    "\n",
    "for i, (lamb, sig) in enumerate(product(lambs, sigs)):\n",
    "    bands_dol_rls = RLSBands(dolfut_1, periods, stddev, int(mult * periods), lamb, sig)\n",
    "    portfolio = Portfolio(1e7, max_single_exposition=600)\n",
    "    available_capital = portfolio.backtest(bands_dol_rls.quotes.iloc[fim_otimizacao_tradicional:fim_otimizacao_modificado], \n",
    "                                           bands_dol_rls.signals.iloc[fim_otimizacao_tradicional:fim_otimizacao_modificado])\n",
    "    allocated_capital = portfolio.allocated_capital\n",
    "    total_capital = allocated_capital + available_capital\n",
    "    print(f\"Iteration {i}: {periods}, {stddev}, {int(mult*stddev)}, {lamb}, {sig}, {available_capital}, {allocated_capital}\")\n",
    "\n",
    "    if total_capital > max_capital:\n",
    "        max_capital = total_capital\n",
    "        max_capital_params_rls = (lamb, sig)\n",
    "\n",
    "max_capital, max_capital_params_rls"
   ]
  },
  {
   "cell_type": "code",
   "execution_count": 56,
   "metadata": {},
   "outputs": [
    {
     "data": {
      "text/plain": [
       "5410520.574999988"
      ]
     },
     "execution_count": 56,
     "metadata": {},
     "output_type": "execute_result"
    }
   ],
   "source": [
    "bands_dol_rls = RLSBands(dolfut_1, periods, stddev, int(mult * periods), *max_capital_params_rls)\n",
    "portfolio = Portfolio(1e7, max_single_exposition=600)\n",
    "portfolio.backtest(bands_dol_rls.quotes.iloc[fim_otimizacao_modificado:], \n",
    "                   bands_dol_rls.signals.iloc[fim_otimizacao_modificado:])"
   ]
  },
  {
   "cell_type": "code",
   "execution_count": 57,
   "metadata": {},
   "outputs": [
    {
     "data": {
      "text/plain": [
       "\n",
       "        Portfolio:\n",
       "            ----\n",
       "        Available Capital: 5410520.574999988\n",
       "        Allocated Capital: 4500000\n",
       "\n",
       "        Current Positions: \n",
       "        PositionStore containing the following positions:\n",
       "\n",
       "        Asset DOLFUT: 300 outstanding SHORT contracts.\n",
       "\n",
       "        "
      ]
     },
     "execution_count": 57,
     "metadata": {},
     "output_type": "execute_result"
    }
   ],
   "source": [
    "portfolio"
   ]
  },
  {
   "cell_type": "markdown",
   "metadata": {},
   "source": [
    "### MACD"
   ]
  },
  {
   "cell_type": "code",
   "execution_count": 17,
   "metadata": {},
   "outputs": [
    {
     "name": "stdout",
     "output_type": "stream",
     "text": [
      "Running Iteration 0.\n",
      "Iteration 0: 11, 24, 9, 10002364.429999977, 16875\n",
      "Running Iteration 1.\n",
      "Iteration 1: 13, 28, 11, 9938427.08499999, 49375\n",
      "Running Iteration 2.\n",
      "Iteration 2: 15, 32, 13, 9863572.749999998, 75000\n",
      "Running Iteration 3.\n",
      "Iteration 3: 17, 36, 15, 9976755.245000025, 62500\n",
      "Running Iteration 4.\n",
      "Iteration 4: 19, 40, 17, 9998720.375000017, 75000\n",
      "Running Iteration 5.\n",
      "Iteration 5: 21, 44, 19, 10054156.694999982, 50000\n"
     ]
    },
    {
     "data": {
      "text/plain": [
       "(10104156.694999982, (21, 44, 19))"
      ]
     },
     "execution_count": 17,
     "metadata": {},
     "output_type": "execute_result"
    }
   ],
   "source": [
    "# Objetivo\n",
    "max_capital = 0\n",
    "params_max_capital = None\n",
    "\n",
    "# Universo de Parâmetros\n",
    "all_shorts = range(11, 22, 2)\n",
    "\n",
    "for i, short in enumerate(all_shorts):\n",
    "    print(f\"Running Iteration {i}.\")\n",
    "    long = 2 * short + 2\n",
    "    signal = short - 2\n",
    "    macd_dol = macd.MACD(dolfut_1, short, long, signal)\n",
    "    portfolio = Portfolio(1e7, max_single_exposition=600)\n",
    "    available_capital = portfolio.backtest(macd_dol.quotes.iloc[:fim_otimizacao_tradicional],\n",
    "                                           macd_dol.signals.iloc[:fim_otimizacao_tradicional])\n",
    "    allocated_capital = portfolio.allocated_capital\n",
    "    total_capital = allocated_capital + available_capital\n",
    "    print(f\"Iteration {i}: {short}, {long}, {signal}, {available_capital}, {allocated_capital}\")\n",
    "\n",
    "    if total_capital > max_capital:\n",
    "        max_capital = total_capital\n",
    "        params_max_capital = (short, long, signal)\n",
    "        \n",
    "max_capital, params_max_capital"
   ]
  },
  {
   "cell_type": "code",
   "execution_count": 18,
   "metadata": {},
   "outputs": [
    {
     "data": {
      "text/plain": [
       "(10104156.694999982, (21, 44, 19))"
      ]
     },
     "execution_count": 18,
     "metadata": {},
     "output_type": "execute_result"
    }
   ],
   "source": [
    "max_capital, params_max_capital"
   ]
  },
  {
   "cell_type": "markdown",
   "metadata": {},
   "source": [
    "#### Otimizando um LMS sobre os parâmetros ótimos"
   ]
  },
  {
   "cell_type": "code",
   "execution_count": 43,
   "metadata": {},
   "outputs": [
    {
     "ename": "KeyboardInterrupt",
     "evalue": "",
     "output_type": "error",
     "traceback": [
      "\u001b[1;31m---------------------------------------------------------------------------\u001b[0m",
      "\u001b[1;31mKeyboardInterrupt\u001b[0m                         Traceback (most recent call last)",
      "\u001b[1;32m<ipython-input-43-51cc0d98ccc8>\u001b[0m in \u001b[0;36m<module>\u001b[1;34m\u001b[0m\n\u001b[0;32m      5\u001b[0m \u001b[1;33m\u001b[0m\u001b[0m\n\u001b[0;32m      6\u001b[0m \u001b[1;32mfor\u001b[0m \u001b[0mi\u001b[0m\u001b[1;33m,\u001b[0m \u001b[0mpace\u001b[0m \u001b[1;32min\u001b[0m \u001b[0menumerate\u001b[0m\u001b[1;33m(\u001b[0m\u001b[0mpaces\u001b[0m\u001b[1;33m)\u001b[0m\u001b[1;33m:\u001b[0m\u001b[1;33m\u001b[0m\u001b[1;33m\u001b[0m\u001b[0m\n\u001b[1;32m----> 7\u001b[1;33m     \u001b[0mbands_dol_lms\u001b[0m \u001b[1;33m=\u001b[0m \u001b[0mmacd\u001b[0m\u001b[1;33m.\u001b[0m\u001b[0mLMS_MACD\u001b[0m\u001b[1;33m(\u001b[0m\u001b[0mdolfut_1\u001b[0m\u001b[1;33m,\u001b[0m \u001b[0mshort\u001b[0m\u001b[1;33m,\u001b[0m \u001b[0mlong\u001b[0m\u001b[1;33m,\u001b[0m \u001b[0msignal\u001b[0m\u001b[1;33m,\u001b[0m \u001b[0mpace\u001b[0m\u001b[1;33m)\u001b[0m\u001b[1;33m\u001b[0m\u001b[1;33m\u001b[0m\u001b[0m\n\u001b[0m\u001b[0;32m      8\u001b[0m     \u001b[0mportfolio\u001b[0m \u001b[1;33m=\u001b[0m \u001b[0mPortfolio\u001b[0m\u001b[1;33m(\u001b[0m\u001b[1;36m1e7\u001b[0m\u001b[1;33m,\u001b[0m \u001b[0mmax_single_exposition\u001b[0m\u001b[1;33m=\u001b[0m\u001b[1;36m600\u001b[0m\u001b[1;33m)\u001b[0m\u001b[1;33m\u001b[0m\u001b[1;33m\u001b[0m\u001b[0m\n\u001b[0;32m      9\u001b[0m     available_capital = portfolio.backtest(bands_dol_lms.quotes.iloc[fim_otimizacao_tradicional:fim_otimizacao_modificado], \n",
      "\u001b[1;32mD:\\Studies\\FEEC\\pas\\projeto_final\\simple_portfolio\\macd.py\u001b[0m in \u001b[0;36m__init__\u001b[1;34m(self, quotes, short_periods, long_periods, signal_periods, tolerance, pace)\u001b[0m\n\u001b[0;32m     61\u001b[0m         \u001b[0mself\u001b[0m\u001b[1;33m.\u001b[0m\u001b[0mpace\u001b[0m \u001b[1;33m=\u001b[0m \u001b[0mpace\u001b[0m\u001b[1;33m\u001b[0m\u001b[1;33m\u001b[0m\u001b[0m\n\u001b[0;32m     62\u001b[0m \u001b[1;33m\u001b[0m\u001b[0m\n\u001b[1;32m---> 63\u001b[1;33m         \u001b[0msuper\u001b[0m\u001b[1;33m(\u001b[0m\u001b[1;33m)\u001b[0m\u001b[1;33m.\u001b[0m\u001b[0m__init__\u001b[0m\u001b[1;33m(\u001b[0m\u001b[0mquotes\u001b[0m\u001b[1;33m,\u001b[0m \u001b[0mshort_periods\u001b[0m\u001b[1;33m,\u001b[0m \u001b[0mlong_periods\u001b[0m\u001b[1;33m,\u001b[0m \u001b[0msignal_periods\u001b[0m\u001b[1;33m,\u001b[0m  \u001b[0mtolerance\u001b[0m\u001b[1;33m)\u001b[0m\u001b[1;33m\u001b[0m\u001b[1;33m\u001b[0m\u001b[0m\n\u001b[0m\u001b[0;32m     64\u001b[0m \u001b[1;33m\u001b[0m\u001b[0m\n\u001b[0;32m     65\u001b[0m     \u001b[1;32mdef\u001b[0m \u001b[0m_construct_indicator\u001b[0m\u001b[1;33m(\u001b[0m\u001b[0mself\u001b[0m\u001b[1;33m,\u001b[0m \u001b[0mquotes\u001b[0m\u001b[1;33m:\u001b[0m \u001b[0mpd\u001b[0m\u001b[1;33m.\u001b[0m\u001b[0mDataFrame\u001b[0m\u001b[1;33m)\u001b[0m \u001b[1;33m->\u001b[0m \u001b[0mpd\u001b[0m\u001b[1;33m.\u001b[0m\u001b[0mSeries\u001b[0m\u001b[1;33m:\u001b[0m\u001b[1;33m\u001b[0m\u001b[1;33m\u001b[0m\u001b[0m\n",
      "\u001b[1;32mD:\\Studies\\FEEC\\pas\\projeto_final\\simple_portfolio\\macd.py\u001b[0m in \u001b[0;36m__init__\u001b[1;34m(self, quotes, short_periods, long_periods, signal_periods, tolerance)\u001b[0m\n\u001b[0;32m     22\u001b[0m         \u001b[0mself\u001b[0m\u001b[1;33m.\u001b[0m\u001b[0msignal_periods\u001b[0m \u001b[1;33m=\u001b[0m \u001b[0msignal_periods\u001b[0m\u001b[1;33m\u001b[0m\u001b[1;33m\u001b[0m\u001b[0m\n\u001b[0;32m     23\u001b[0m         \u001b[0mself\u001b[0m\u001b[1;33m.\u001b[0m\u001b[0mtolerance\u001b[0m \u001b[1;33m=\u001b[0m \u001b[0mtolerance\u001b[0m\u001b[1;33m\u001b[0m\u001b[1;33m\u001b[0m\u001b[0m\n\u001b[1;32m---> 24\u001b[1;33m         \u001b[0mself\u001b[0m\u001b[1;33m.\u001b[0m\u001b[0mquotes\u001b[0m \u001b[1;33m=\u001b[0m \u001b[0mself\u001b[0m\u001b[1;33m.\u001b[0m\u001b[0m_construct_indicator\u001b[0m\u001b[1;33m(\u001b[0m\u001b[0mquotes\u001b[0m\u001b[1;33m)\u001b[0m\u001b[1;33m\u001b[0m\u001b[1;33m\u001b[0m\u001b[0m\n\u001b[0m\u001b[0;32m     25\u001b[0m         \u001b[0mself\u001b[0m\u001b[1;33m.\u001b[0m\u001b[0msignals\u001b[0m \u001b[1;33m=\u001b[0m \u001b[0mself\u001b[0m\u001b[1;33m.\u001b[0m\u001b[0m_make_signals\u001b[0m\u001b[1;33m(\u001b[0m\u001b[1;33m)\u001b[0m\u001b[1;33m\u001b[0m\u001b[1;33m\u001b[0m\u001b[0m\n\u001b[0;32m     26\u001b[0m \u001b[1;33m\u001b[0m\u001b[0m\n",
      "\u001b[1;32mD:\\Studies\\FEEC\\pas\\projeto_final\\simple_portfolio\\macd.py\u001b[0m in \u001b[0;36m_construct_indicator\u001b[1;34m(self, quotes)\u001b[0m\n\u001b[0;32m     69\u001b[0m \u001b[1;33m\u001b[0m\u001b[0m\n\u001b[0;32m     70\u001b[0m         \u001b[0mestimate_short\u001b[0m\u001b[1;33m,\u001b[0m \u001b[0m_\u001b[0m \u001b[1;33m=\u001b[0m \u001b[0mlms\u001b[0m\u001b[1;33m(\u001b[0m\u001b[0mentry\u001b[0m\u001b[1;33m,\u001b[0m \u001b[0mreference\u001b[0m\u001b[1;33m,\u001b[0m \u001b[0mself\u001b[0m\u001b[1;33m.\u001b[0m\u001b[0mshort_periods\u001b[0m\u001b[1;33m,\u001b[0m \u001b[0mself\u001b[0m\u001b[1;33m.\u001b[0m\u001b[0mpace\u001b[0m\u001b[1;33m)\u001b[0m\u001b[1;33m\u001b[0m\u001b[1;33m\u001b[0m\u001b[0m\n\u001b[1;32m---> 71\u001b[1;33m         \u001b[0mestimate_long\u001b[0m\u001b[1;33m,\u001b[0m \u001b[0m_\u001b[0m \u001b[1;33m=\u001b[0m \u001b[0mlms\u001b[0m\u001b[1;33m(\u001b[0m\u001b[0mentry\u001b[0m\u001b[1;33m,\u001b[0m \u001b[0mreference\u001b[0m\u001b[1;33m,\u001b[0m \u001b[0mself\u001b[0m\u001b[1;33m.\u001b[0m\u001b[0mlong_periods\u001b[0m\u001b[1;33m,\u001b[0m \u001b[0mself\u001b[0m\u001b[1;33m.\u001b[0m\u001b[0mpace\u001b[0m\u001b[1;33m)\u001b[0m\u001b[1;33m\u001b[0m\u001b[1;33m\u001b[0m\u001b[0m\n\u001b[0m\u001b[0;32m     72\u001b[0m         \u001b[0mestimate_short\u001b[0m \u001b[1;33m=\u001b[0m \u001b[0mpd\u001b[0m\u001b[1;33m.\u001b[0m\u001b[0mSeries\u001b[0m\u001b[1;33m(\u001b[0m\u001b[0mestimate_short\u001b[0m\u001b[1;33m)\u001b[0m\u001b[1;33m\u001b[0m\u001b[1;33m\u001b[0m\u001b[0m\n\u001b[0;32m     73\u001b[0m         \u001b[0mestimate_long\u001b[0m \u001b[1;33m=\u001b[0m \u001b[0mpd\u001b[0m\u001b[1;33m.\u001b[0m\u001b[0mSeries\u001b[0m\u001b[1;33m(\u001b[0m\u001b[0mestimate_long\u001b[0m\u001b[1;33m)\u001b[0m\u001b[1;33m\u001b[0m\u001b[1;33m\u001b[0m\u001b[0m\n",
      "\u001b[1;32mD:\\Studies\\FEEC\\pas\\projeto_final\\simple_portfolio\\adaptive_filters.py\u001b[0m in \u001b[0;36mlms\u001b[1;34m(signal, reference, num_parameters, pace)\u001b[0m\n\u001b[0;32m     20\u001b[0m     \u001b[1;32mfor\u001b[0m \u001b[0mn\u001b[0m \u001b[1;32min\u001b[0m \u001b[0mrange\u001b[0m\u001b[1;33m(\u001b[0m\u001b[0msignal\u001b[0m\u001b[1;33m.\u001b[0m\u001b[0mshape\u001b[0m\u001b[1;33m[\u001b[0m\u001b[1;36m0\u001b[0m\u001b[1;33m]\u001b[0m\u001b[1;33m)\u001b[0m\u001b[1;33m:\u001b[0m\u001b[1;33m\u001b[0m\u001b[1;33m\u001b[0m\u001b[0m\n\u001b[0;32m     21\u001b[0m         \u001b[0mweight_history\u001b[0m\u001b[1;33m.\u001b[0m\u001b[0mappend\u001b[0m\u001b[1;33m(\u001b[0m\u001b[0mweights\u001b[0m\u001b[1;33m)\u001b[0m\u001b[1;33m\u001b[0m\u001b[1;33m\u001b[0m\u001b[0m\n\u001b[1;32m---> 22\u001b[1;33m         \u001b[0msamples\u001b[0m \u001b[1;33m=\u001b[0m \u001b[0mnp\u001b[0m\u001b[1;33m.\u001b[0m\u001b[0mroll\u001b[0m\u001b[1;33m(\u001b[0m\u001b[0msamples\u001b[0m\u001b[1;33m,\u001b[0m \u001b[1;36m1\u001b[0m\u001b[1;33m)\u001b[0m\u001b[1;33m\u001b[0m\u001b[1;33m\u001b[0m\u001b[0m\n\u001b[0m\u001b[0;32m     23\u001b[0m         \u001b[0msamples\u001b[0m\u001b[1;33m[\u001b[0m\u001b[1;36m0\u001b[0m\u001b[1;33m]\u001b[0m \u001b[1;33m=\u001b[0m \u001b[0msignal\u001b[0m\u001b[1;33m[\u001b[0m\u001b[0mn\u001b[0m\u001b[1;33m]\u001b[0m\u001b[1;33m\u001b[0m\u001b[1;33m\u001b[0m\u001b[0m\n\u001b[0;32m     24\u001b[0m \u001b[1;33m\u001b[0m\u001b[0m\n",
      "\u001b[1;32m~\\Anaconda3\\envs\\dev\\lib\\site-packages\\numpy\\core\\numeric.py\u001b[0m in \u001b[0;36mroll\u001b[1;34m(a, shift, axis)\u001b[0m\n\u001b[0;32m   1461\u001b[0m     \u001b[0ma\u001b[0m \u001b[1;33m=\u001b[0m \u001b[0masanyarray\u001b[0m\u001b[1;33m(\u001b[0m\u001b[0ma\u001b[0m\u001b[1;33m)\u001b[0m\u001b[1;33m\u001b[0m\u001b[1;33m\u001b[0m\u001b[0m\n\u001b[0;32m   1462\u001b[0m     \u001b[1;32mif\u001b[0m \u001b[0maxis\u001b[0m \u001b[1;32mis\u001b[0m \u001b[1;32mNone\u001b[0m\u001b[1;33m:\u001b[0m\u001b[1;33m\u001b[0m\u001b[1;33m\u001b[0m\u001b[0m\n\u001b[1;32m-> 1463\u001b[1;33m         \u001b[1;32mreturn\u001b[0m \u001b[0mroll\u001b[0m\u001b[1;33m(\u001b[0m\u001b[0ma\u001b[0m\u001b[1;33m.\u001b[0m\u001b[0mravel\u001b[0m\u001b[1;33m(\u001b[0m\u001b[1;33m)\u001b[0m\u001b[1;33m,\u001b[0m \u001b[0mshift\u001b[0m\u001b[1;33m,\u001b[0m \u001b[1;36m0\u001b[0m\u001b[1;33m)\u001b[0m\u001b[1;33m.\u001b[0m\u001b[0mreshape\u001b[0m\u001b[1;33m(\u001b[0m\u001b[0ma\u001b[0m\u001b[1;33m.\u001b[0m\u001b[0mshape\u001b[0m\u001b[1;33m)\u001b[0m\u001b[1;33m\u001b[0m\u001b[1;33m\u001b[0m\u001b[0m\n\u001b[0m\u001b[0;32m   1464\u001b[0m \u001b[1;33m\u001b[0m\u001b[0m\n\u001b[0;32m   1465\u001b[0m     \u001b[1;32melse\u001b[0m\u001b[1;33m:\u001b[0m\u001b[1;33m\u001b[0m\u001b[1;33m\u001b[0m\u001b[0m\n",
      "\u001b[1;32m~\\Anaconda3\\envs\\dev\\lib\\site-packages\\numpy\\core\\numeric.py\u001b[0m in \u001b[0;36mroll\u001b[1;34m(a, shift, axis)\u001b[0m\n\u001b[0;32m   1484\u001b[0m         \u001b[1;32mfor\u001b[0m \u001b[0mindices\u001b[0m \u001b[1;32min\u001b[0m \u001b[0mitertools\u001b[0m\u001b[1;33m.\u001b[0m\u001b[0mproduct\u001b[0m\u001b[1;33m(\u001b[0m\u001b[1;33m*\u001b[0m\u001b[0mrolls\u001b[0m\u001b[1;33m)\u001b[0m\u001b[1;33m:\u001b[0m\u001b[1;33m\u001b[0m\u001b[1;33m\u001b[0m\u001b[0m\n\u001b[0;32m   1485\u001b[0m             \u001b[0marr_index\u001b[0m\u001b[1;33m,\u001b[0m \u001b[0mres_index\u001b[0m \u001b[1;33m=\u001b[0m \u001b[0mzip\u001b[0m\u001b[1;33m(\u001b[0m\u001b[1;33m*\u001b[0m\u001b[0mindices\u001b[0m\u001b[1;33m)\u001b[0m\u001b[1;33m\u001b[0m\u001b[1;33m\u001b[0m\u001b[0m\n\u001b[1;32m-> 1486\u001b[1;33m             \u001b[0mresult\u001b[0m\u001b[1;33m[\u001b[0m\u001b[0mres_index\u001b[0m\u001b[1;33m]\u001b[0m \u001b[1;33m=\u001b[0m \u001b[0ma\u001b[0m\u001b[1;33m[\u001b[0m\u001b[0marr_index\u001b[0m\u001b[1;33m]\u001b[0m\u001b[1;33m\u001b[0m\u001b[1;33m\u001b[0m\u001b[0m\n\u001b[0m\u001b[0;32m   1487\u001b[0m \u001b[1;33m\u001b[0m\u001b[0m\n\u001b[0;32m   1488\u001b[0m         \u001b[1;32mreturn\u001b[0m \u001b[0mresult\u001b[0m\u001b[1;33m\u001b[0m\u001b[1;33m\u001b[0m\u001b[0m\n",
      "\u001b[1;31mKeyboardInterrupt\u001b[0m: "
     ]
    }
   ],
   "source": [
    "paces = [1e-10, 5e-11]\n",
    "max_capital = 0\n",
    "max_capital_pace = None\n",
    "short, long, signal = params_max_capital\n",
    "\n",
    "for i, pace in enumerate(paces):\n",
    "    macd_dol_lms = macd.LMS_MACD(dolfut_1, short, long, signal, pace)\n",
    "    portfolio = Portfolio(1e7, max_single_exposition=600)\n",
    "    available_capital = portfolio.backtest(macd_dol_lms.quotes.iloc[fim_otimizacao_tradicional:fim_otimizacao_modificado], \n",
    "                                           macd_dol_lms.signals.iloc[fim_otimizacao_tradicional:fim_otimizacao_modificado])\n",
    "    allocated_capital = portfolio.allocated_capital\n",
    "    total_capital = allocated_capital + available_capital\n",
    "    print(f\"Iteration {i}: {short}, {long}, {signal}, {available_capital}, {pace}, {allocated_capital}\")\n",
    "\n",
    "    if total_capital > max_capital:\n",
    "        max_capital = total_capital\n",
    "        max_capital_pace = pace\n",
    "\n",
    "max_capital, max_capital_pace"
   ]
  },
  {
   "cell_type": "code",
   "execution_count": 20,
   "metadata": {},
   "outputs": [
    {
     "data": {
      "text/plain": [
       "10000000.0"
      ]
     },
     "execution_count": 20,
     "metadata": {},
     "output_type": "execute_result"
    }
   ],
   "source": [
    "macd_dol_lms = macd.LMS_MACD(dolfut_1, short, long, signal, max_capital_pace)\n",
    "portfolio = Portfolio(1e7, max_single_exposition=600)\n",
    "portfolio.backtest(macd_dol_lms.quotes.iloc[fim_otimizacao_modificado:], \n",
    "                   macd_dol_lms.signals.iloc[fim_otimizacao_modificado:])"
   ]
  },
  {
   "cell_type": "code",
   "execution_count": 21,
   "metadata": {},
   "outputs": [
    {
     "name": "stderr",
     "output_type": "stream",
     "text": [
      "D:\\Studies\\FEEC\\pas\\projeto_final\\simple_portfolio\\adaptive_filters.py:58: RuntimeWarning:\n",
      "\n",
      "invalid value encountered in greater\n",
      "\n",
      "D:\\Studies\\FEEC\\pas\\projeto_final\\simple_portfolio\\adaptive_filters.py:60: RuntimeWarning:\n",
      "\n",
      "invalid value encountered in less\n",
      "\n"
     ]
    },
    {
     "name": "stdout",
     "output_type": "stream",
     "text": [
      "Iteration 0: 21, 44, 19, 10000000.0, 1e-08, 0\n",
      "Iteration 1: 21, 44, 19, 10000000.0, 5e-09, 0\n"
     ]
    },
    {
     "data": {
      "text/plain": [
       "(10000000.0, 1e-08)"
      ]
     },
     "execution_count": 21,
     "metadata": {},
     "output_type": "execute_result"
    }
   ],
   "source": [
    "paces = [1e-8, 5e-9]\n",
    "max_capital = 0\n",
    "max_capital_pace = None\n",
    "periods, stddev, mult = params_max_capital\n",
    "\n",
    "for i, pace in enumerate(paces):\n",
    "    macd_dol_es = macd.ES_MACD(dolfut_1, short, long, signal, pace)\n",
    "    portfolio = Portfolio(1e7, max_single_exposition=600)\n",
    "    available_capital = portfolio.backtest(macd_dol_es.quotes.iloc[fim_otimizacao_tradicional:fim_otimizacao_modificado], \n",
    "                                           macd_dol_es.signals.iloc[fim_otimizacao_tradicional:fim_otimizacao_modificado])\n",
    "    allocated_capital = portfolio.allocated_capital\n",
    "    total_capital = allocated_capital + available_capital\n",
    "    print(f\"Iteration {i}: {short}, {long}, {signal}, {available_capital}, {pace}, {allocated_capital}\")\n",
    "\n",
    "    if total_capital > max_capital:\n",
    "        max_capital = total_capital\n",
    "        max_capital_pace = pace\n",
    "\n",
    "max_capital, max_capital_pace"
   ]
  },
  {
   "cell_type": "code",
   "execution_count": 22,
   "metadata": {},
   "outputs": [
    {
     "data": {
      "text/plain": [
       "10000000.0"
      ]
     },
     "execution_count": 22,
     "metadata": {},
     "output_type": "execute_result"
    }
   ],
   "source": [
    "macd_dol_es = macd.ES_MACD(dolfut_1, short, long, signal, max_capital_pace)\n",
    "portfolio = Portfolio(1e7, max_single_exposition=600)\n",
    "portfolio.backtest(macd_dol_es.quotes.iloc[fim_otimizacao_modificado:], \n",
    "                   macd_dol_es.signals.iloc[fim_otimizacao_modificado:])"
   ]
  },
  {
   "cell_type": "code",
   "execution_count": 23,
   "metadata": {},
   "outputs": [
    {
     "name": "stdout",
     "output_type": "stream",
     "text": [
      "Iteration 0: 21, 44, 19, 10000000.0, 0.999, 1, 0\n",
      "Iteration 1: 21, 44, 19, 10000000.0, 0.999, 5, 0\n",
      "Iteration 2: 21, 44, 19, 10000000.0, 0.99, 1, 0\n",
      "Iteration 3: 21, 44, 19, 10000000.0, 0.99, 5, 0\n"
     ]
    },
    {
     "data": {
      "text/plain": [
       "(10000000.0, (0.999, 1))"
      ]
     },
     "execution_count": 23,
     "metadata": {},
     "output_type": "execute_result"
    }
   ],
   "source": [
    "lambs = [.999, .99]\n",
    "sigs = [1, 5]\n",
    "max_capital = 0\n",
    "max_capital_params_rls = None\n",
    "short, long, signal = params_max_capital\n",
    "\n",
    "for i, (lamb, sig) in enumerate(product(lambs, sigs)):\n",
    "    macd_dol_rls = macd.RLS_MACD(dolfut_1, short, long, signal, lamb, sig)\n",
    "    portfolio = Portfolio(1e7, max_single_exposition=600)\n",
    "    available_capital = portfolio.backtest(macd_dol_rls.quotes.iloc[fim_otimizacao_tradicional:fim_otimizacao_modificado], \n",
    "                                           macd_dol_rls.signals.iloc[fim_otimizacao_tradicional:fim_otimizacao_modificado])\n",
    "    allocated_capital = portfolio.allocated_capital\n",
    "    total_capital = allocated_capital + available_capital\n",
    "    print(f\"Iteration {i}: {short}, {long}, {signal}, {available_capital}, {lamb}, {sig}, {allocated_capital}\")\n",
    "    \n",
    "    if total_capital > max_capital:\n",
    "        max_capital = total_capital\n",
    "        max_capital_params_rls = (lamb, sig)\n",
    "\n",
    "max_capital, max_capital_params_rls"
   ]
  },
  {
   "cell_type": "code",
   "execution_count": 24,
   "metadata": {},
   "outputs": [
    {
     "data": {
      "text/plain": [
       "10000000.0"
      ]
     },
     "execution_count": 24,
     "metadata": {},
     "output_type": "execute_result"
    }
   ],
   "source": [
    "macd_dol_rls = macd.RLS_MACD(dolfut_1, short, long, signal, lamb, sig)\n",
    "portfolio = Portfolio(1e7, max_single_exposition=600)\n",
    "portfolio.backtest(macd_dol_rls.quotes.iloc[fim_otimizacao_modificado:], \n",
    "                   macd_dol_rls.signals.iloc[fim_otimizacao_modificado:])"
   ]
  },
  {
   "cell_type": "code",
   "execution_count": null,
   "metadata": {},
   "outputs": [],
   "source": []
  }
 ],
 "metadata": {
  "kernelspec": {
   "display_name": "Python 3",
   "language": "python",
   "name": "python3"
  },
  "language_info": {
   "codemirror_mode": {
    "name": "ipython",
    "version": 3
   },
   "file_extension": ".py",
   "mimetype": "text/x-python",
   "name": "python",
   "nbconvert_exporter": "python",
   "pygments_lexer": "ipython3",
   "version": "3.6.7"
  }
 },
 "nbformat": 4,
 "nbformat_minor": 2
}
